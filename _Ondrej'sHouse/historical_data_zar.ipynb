{
 "cells": [
  {
   "cell_type": "markdown",
   "metadata": {},
   "source": [
    "# Historical Data for Analysis\n",
    "## How to Use the Data\n",
    "\n",
    "* Luno and Binance only\n",
    "* Order book top 1 level for both ask and bid\n",
    "* Spot price between BTC and ZAR\n",
    "* Real-time data, so all changes in levels are recorded\n",
    "* From 2020-06-15T00:00:00 to 2020-07-17T00:00:00 (32 days from Monday until Thursday)\n",
    "* Could not get more due to free API limits"
   ]
  },
  {
   "cell_type": "code",
   "execution_count": 64,
   "metadata": {},
   "outputs": [],
   "source": [
    "import json\n",
    "import pandas as pd"
   ]
  },
  {
   "cell_type": "code",
   "execution_count": 65,
   "metadata": {},
   "outputs": [],
   "source": [
    "with open('luno_binance_spot_btc_zar.json', 'r') as f:\n",
    "    luno_binance_data = json.load(f)\n",
    "\n",
    "luno_btc_zar_data = pd.DataFrame(luno_binance_data['LUNO_SPOT_BTC_ZAR'])\n",
    "binance_btc_zar_data = pd.DataFrame(luno_binance_data['BINANCE_SPOT_BTC_ZAR'])"
   ]
  },
  {
   "cell_type": "code",
   "execution_count": 66,
   "metadata": {},
   "outputs": [
    {
     "output_type": "execute_result",
     "data": {
      "text/plain": "                           time  asks_price  asks_size  bids_price  bids_size\n0  2020-06-15T00:02:19.5214332Z    170386.0   0.534161    170385.0   0.076187\n1  2020-06-15T00:02:34.7003021Z    170386.0   0.455860    170385.0   2.500000\n2  2020-06-15T00:03:45.2280492Z    170386.0   0.534161    170385.0   1.949240\n3  2020-06-15T00:04:36.1349999Z    170386.0   0.455860    170385.0   2.500000\n4  2020-06-15T00:05:10.9274555Z    170386.0   0.534161    170385.0   2.500000",
      "text/html": "<div>\n<style scoped>\n    .dataframe tbody tr th:only-of-type {\n        vertical-align: middle;\n    }\n\n    .dataframe tbody tr th {\n        vertical-align: top;\n    }\n\n    .dataframe thead th {\n        text-align: right;\n    }\n</style>\n<table border=\"1\" class=\"dataframe\">\n  <thead>\n    <tr style=\"text-align: right;\">\n      <th></th>\n      <th>time</th>\n      <th>asks_price</th>\n      <th>asks_size</th>\n      <th>bids_price</th>\n      <th>bids_size</th>\n    </tr>\n  </thead>\n  <tbody>\n    <tr>\n      <th>0</th>\n      <td>2020-06-15T00:02:19.5214332Z</td>\n      <td>170386.0</td>\n      <td>0.534161</td>\n      <td>170385.0</td>\n      <td>0.076187</td>\n    </tr>\n    <tr>\n      <th>1</th>\n      <td>2020-06-15T00:02:34.7003021Z</td>\n      <td>170386.0</td>\n      <td>0.455860</td>\n      <td>170385.0</td>\n      <td>2.500000</td>\n    </tr>\n    <tr>\n      <th>2</th>\n      <td>2020-06-15T00:03:45.2280492Z</td>\n      <td>170386.0</td>\n      <td>0.534161</td>\n      <td>170385.0</td>\n      <td>1.949240</td>\n    </tr>\n    <tr>\n      <th>3</th>\n      <td>2020-06-15T00:04:36.1349999Z</td>\n      <td>170386.0</td>\n      <td>0.455860</td>\n      <td>170385.0</td>\n      <td>2.500000</td>\n    </tr>\n    <tr>\n      <th>4</th>\n      <td>2020-06-15T00:05:10.9274555Z</td>\n      <td>170386.0</td>\n      <td>0.534161</td>\n      <td>170385.0</td>\n      <td>2.500000</td>\n    </tr>\n  </tbody>\n</table>\n</div>"
     },
     "metadata": {},
     "execution_count": 66
    }
   ],
   "source": [
    "luno_btc_zar_data.head()"
   ]
  },
  {
   "cell_type": "code",
   "execution_count": 67,
   "metadata": {},
   "outputs": [
    {
     "output_type": "execute_result",
     "data": {
      "text/plain": "                           time  asks_price  asks_size  bids_price  bids_size\n0  2020-06-15T00:00:13.4120000Z    171542.0   0.089691    170523.0   0.003790\n1  2020-06-15T00:00:21.0070000Z    171542.0   0.089691    170523.0   0.003790\n2  2020-06-15T00:00:27.5090000Z    171542.0   0.089691    170523.0   0.003790\n3  2020-06-15T00:00:28.5090000Z    171542.0   0.089691    170523.0   0.003790\n4  2020-06-15T00:00:29.8080000Z    171542.0   0.089691    170514.0   0.117292",
      "text/html": "<div>\n<style scoped>\n    .dataframe tbody tr th:only-of-type {\n        vertical-align: middle;\n    }\n\n    .dataframe tbody tr th {\n        vertical-align: top;\n    }\n\n    .dataframe thead th {\n        text-align: right;\n    }\n</style>\n<table border=\"1\" class=\"dataframe\">\n  <thead>\n    <tr style=\"text-align: right;\">\n      <th></th>\n      <th>time</th>\n      <th>asks_price</th>\n      <th>asks_size</th>\n      <th>bids_price</th>\n      <th>bids_size</th>\n    </tr>\n  </thead>\n  <tbody>\n    <tr>\n      <th>0</th>\n      <td>2020-06-15T00:00:13.4120000Z</td>\n      <td>171542.0</td>\n      <td>0.089691</td>\n      <td>170523.0</td>\n      <td>0.003790</td>\n    </tr>\n    <tr>\n      <th>1</th>\n      <td>2020-06-15T00:00:21.0070000Z</td>\n      <td>171542.0</td>\n      <td>0.089691</td>\n      <td>170523.0</td>\n      <td>0.003790</td>\n    </tr>\n    <tr>\n      <th>2</th>\n      <td>2020-06-15T00:00:27.5090000Z</td>\n      <td>171542.0</td>\n      <td>0.089691</td>\n      <td>170523.0</td>\n      <td>0.003790</td>\n    </tr>\n    <tr>\n      <th>3</th>\n      <td>2020-06-15T00:00:28.5090000Z</td>\n      <td>171542.0</td>\n      <td>0.089691</td>\n      <td>170523.0</td>\n      <td>0.003790</td>\n    </tr>\n    <tr>\n      <th>4</th>\n      <td>2020-06-15T00:00:29.8080000Z</td>\n      <td>171542.0</td>\n      <td>0.089691</td>\n      <td>170514.0</td>\n      <td>0.117292</td>\n    </tr>\n  </tbody>\n</table>\n</div>"
     },
     "metadata": {},
     "execution_count": 67
    }
   ],
   "source": [
    "binance_btc_zar_data.head()"
   ]
  },
  {
   "cell_type": "markdown",
   "metadata": {},
   "source": [
    "## Getting the Data for BTC-ZAR"
   ]
  },
  {
   "cell_type": "code",
   "execution_count": 2,
   "metadata": {},
   "outputs": [],
   "source": [
    "# set-up\n",
    "\n",
    "import requests\n",
    "\n",
    "api_key = '93E4B0FE-5A23-456C-A8E2-FE04A9EC22D7'\n",
    "email = 'tsofgygbbxnzwrbtoi@ttirv.org'"
   ]
  },
  {
   "cell_type": "code",
   "execution_count": 6,
   "metadata": {},
   "outputs": [],
   "source": [
    "symbol_id_list = ['LUNO_SPOT_BTC_ZAR',\n",
    "    '1BTCXE_SPOT_BTC_ZAR',\n",
    "    'ALTCOINTRADER_SPOT_BTC_ZAR',\n",
    "    'ICE3X_SPOT_BTC_ZAR',\n",
    "    'STELLARPORT_SPOT_BTC_ZAR',\n",
    "    'BISQ_SPOT_BTC_ZAR',\n",
    "    'BINANCE_SPOT_BTC_ZAR',\n",
    "    'ARTISTURBA_SPOT_BTC_ZAR',\n",
    "    'STELLARPORT_SPOT_BTC_ZART',\n",
    "    'OVEX_SPOT_BTC_ZAR']\n",
    "\n",
    "historical_data_1d_dct = {}"
   ]
  },
  {
   "cell_type": "code",
   "execution_count": 7,
   "metadata": {},
   "outputs": [],
   "source": [
    "for symbol_id in symbol_id_list:\n",
    "    time_start = '2020-07-15T00:00:00'\n",
    "    time_end = '2020-07-16T00:00:00'\n",
    "    limit = '100000'\n",
    "    limit_levels = '1'\n",
    "\n",
    "    url = 'https://rest.coinapi.io/v1/orderbooks/' + \\\n",
    "        symbol_id + '/history?time_start=' + time_start + \\\n",
    "        '&time_end=' + time_end + '&limit=' + limit + '&limit_levels=' + limit_levels\n",
    "    headers = {'X-CoinAPI-Key' : api_key}\n",
    "    response = requests.get(url, headers=headers)\n",
    "\n",
    "    historical_data_1d_dct[symbol_id] = response.json()"
   ]
  },
  {
   "cell_type": "markdown",
   "metadata": {},
   "source": [
    "Find the activity at different exchanges"
   ]
  },
  {
   "cell_type": "code",
   "execution_count": 9,
   "metadata": {},
   "outputs": [
    {
     "output_type": "stream",
     "name": "stdout",
     "text": "LUNO_SPOT_BTC_ZAR: 960\n1BTCXE_SPOT_BTC_ZAR: 0\nALTCOINTRADER_SPOT_BTC_ZAR: 0\nICE3X_SPOT_BTC_ZAR: 760\nSTELLARPORT_SPOT_BTC_ZAR: 0\nBISQ_SPOT_BTC_ZAR: 141\nBINANCE_SPOT_BTC_ZAR: 793\nARTISTURBA_SPOT_BTC_ZAR: 0\nSTELLARPORT_SPOT_BTC_ZART: 0\nOVEX_SPOT_BTC_ZAR: 0\n"
    }
   ],
   "source": [
    "for symbol_id in symbol_id_list:\n",
    "    print(symbol_id + ': ' + str(len(historical_data_1d_dct[symbol_id])))"
   ]
  },
  {
   "cell_type": "markdown",
   "metadata": {},
   "source": [
    "It seems that Luno is the most active and there are typically less than 1000 updates per day. So we can easily get 4 weeks of data for initial analysis."
   ]
  },
  {
   "cell_type": "code",
   "execution_count": 10,
   "metadata": {},
   "outputs": [],
   "source": [
    "# we choose 2020-06-15T00:00:00 as start - Monday about 5 weeks ago\n",
    "# we choose 2020-07-18T00:00:00 as end - start of latest Saturday\n",
    "\n",
    "historical_data_33d_dct = {}\n",
    "\n",
    "for symbol_id in symbol_id_list:\n",
    "    time_start = '2020-06-15T00:00:00'\n",
    "    time_end = '2020-07-18T00:00:00'\n",
    "    limit = '100000'\n",
    "    limit_levels = '1'\n",
    "\n",
    "    url = 'https://rest.coinapi.io/v1/orderbooks/' + \\\n",
    "        symbol_id + '/history?time_start=' + time_start + \\\n",
    "        '&time_end=' + time_end + '&limit=' + limit + '&limit_levels=' + limit_levels\n",
    "    headers = {'X-CoinAPI-Key' : api_key}\n",
    "    response = requests.get(url, headers=headers)\n",
    "\n",
    "    historical_data_33d_dct[symbol_id] = response.json()"
   ]
  },
  {
   "cell_type": "markdown",
   "metadata": {},
   "source": [
    "Check how much updates we got - was there an overflow (over 100000)?"
   ]
  },
  {
   "cell_type": "code",
   "execution_count": 11,
   "metadata": {},
   "outputs": [
    {
     "output_type": "stream",
     "name": "stdout",
     "text": "LUNO_SPOT_BTC_ZAR: 58975\n1BTCXE_SPOT_BTC_ZAR: 0\nALTCOINTRADER_SPOT_BTC_ZAR: 0\nICE3X_SPOT_BTC_ZAR: 5\nSTELLARPORT_SPOT_BTC_ZAR: 0\nBISQ_SPOT_BTC_ZAR: 1156\nBINANCE_SPOT_BTC_ZAR: 100000\nARTISTURBA_SPOT_BTC_ZAR: 5\nSTELLARPORT_SPOT_BTC_ZART: 5\nOVEX_SPOT_BTC_ZAR: 0\n"
    }
   ],
   "source": [
    "for symbol_id in symbol_id_list:\n",
    "    print(symbol_id + ': ' + str(len(historical_data_33d_dct[symbol_id])))"
   ]
  },
  {
   "cell_type": "markdown",
   "metadata": {},
   "source": [
    "It looks like there was an overflow for Binance - so only get 2-3 weeks now"
   ]
  },
  {
   "cell_type": "code",
   "execution_count": 14,
   "metadata": {},
   "outputs": [],
   "source": [
    "# we choose 2020-06-29T00:00:00 as start - Monday about 3 weeks ago\n",
    "# we choose 2020-07-18T00:00:00 as end - start of latest Saturday\n",
    "\n",
    "historical_data_19d_dct = {}\n",
    "\n",
    "for symbol_id in symbol_id_list:\n",
    "    time_start = '2020-06-29T00:00:00'\n",
    "    time_end = '2020-07-18T00:00:00'\n",
    "    limit = '100000'\n",
    "    limit_levels = '1'\n",
    "\n",
    "    url = 'https://rest.coinapi.io/v1/orderbooks/' + \\\n",
    "        symbol_id + '/history?time_start=' + time_start + \\\n",
    "        '&time_end=' + time_end + '&limit=' + limit + '&limit_levels=' + limit_levels\n",
    "    headers = {'X-CoinAPI-Key' : api_key}\n",
    "    response = requests.get(url, headers=headers)\n",
    "\n",
    "    historical_data_19d_dct[symbol_id] = response.json()"
   ]
  },
  {
   "cell_type": "code",
   "execution_count": 15,
   "metadata": {},
   "outputs": [
    {
     "output_type": "stream",
     "name": "stdout",
     "text": "LUNO_SPOT_BTC_ZAR: 5\n1BTCXE_SPOT_BTC_ZAR: 5\nALTCOINTRADER_SPOT_BTC_ZAR: 5\nICE3X_SPOT_BTC_ZAR: 5\nSTELLARPORT_SPOT_BTC_ZAR: 5\nBISQ_SPOT_BTC_ZAR: 5\nBINANCE_SPOT_BTC_ZAR: 5\nARTISTURBA_SPOT_BTC_ZAR: 5\nSTELLARPORT_SPOT_BTC_ZART: 5\nOVEX_SPOT_BTC_ZAR: 5\n"
    }
   ],
   "source": [
    "for symbol_id in symbol_id_list:\n",
    "    print(symbol_id + ': ' + str(len(historical_data_19d_dct[symbol_id])))"
   ]
  },
  {
   "cell_type": "code",
   "execution_count": 16,
   "metadata": {},
   "outputs": [
    {
     "output_type": "execute_result",
     "data": {
      "text/plain": "{'error': 'Too many requests - You have exceeded your API key last 24 hour requests executed limit, please wait for new requests or contact support for upgrading your existing plan.',\n 'faq_0': 'Q: How requests are calculated? A: The request is a single API call to our REST API without `limit` parameter. Or with `limit` parameter, the request is counted every 100 data points returned by the API.',\n 'faq_1': 'Q: How I can monitor number of requests left? A: Every authenticated API call providing information about the current state of the limits in the HTTP response headers, more info here: https://docs.coinapi.io/#request-limits',\n 'faq_2': \"Q: I'm on Professional plan. How I can have more requests? A: Please contact support at the https://www.coinapi.io/support for more information.\",\n 'faq_3': \"Q: I'm on free plan and I didn't executed 100 requests yet and got 429 error. A: Free plan contains additional limitations to prevent fraud and usage of the multiple free API keys to obey the limits.\"}"
     },
     "metadata": {},
     "execution_count": 16
    }
   ],
   "source": [
    "historical_data_19d_dct['LUNO_SPOT_BTC_ZAR']"
   ]
  },
  {
   "cell_type": "markdown",
   "metadata": {},
   "source": [
    "It seems that now we have used the free number of requests, so we will need to use what we managed to get."
   ]
  },
  {
   "cell_type": "markdown",
   "metadata": {},
   "source": [
    "Look at the data we managed to get"
   ]
  },
  {
   "cell_type": "code",
   "execution_count": 25,
   "metadata": {},
   "outputs": [
    {
     "output_type": "stream",
     "name": "stdout",
     "text": "LUNO_SPOT_BTC_ZAR: 58975\nICE3X_SPOT_BTC_ZAR: 5\nBISQ_SPOT_BTC_ZAR: 1156\nBINANCE_SPOT_BTC_ZAR: 100000\nARTISTURBA_SPOT_BTC_ZAR: 5\nSTELLARPORT_SPOT_BTC_ZART: 5\n"
    }
   ],
   "source": [
    "for symbol_id in symbol_id_list:\n",
    "    if len(historical_data_33d_dct[symbol_id]) > 0:\n",
    "        print(symbol_id + ': ' + str(len(historical_data_33d_dct[symbol_id])))"
   ]
  },
  {
   "cell_type": "code",
   "execution_count": 32,
   "metadata": {},
   "outputs": [
    {
     "output_type": "execute_result",
     "data": {
      "text/plain": "{'error': 'Too many requests - You have exceeded your API key last 24 hour requests executed limit, please wait for new requests or contact support for upgrading your existing plan.',\n 'faq_0': 'Q: How requests are calculated? A: The request is a single API call to our REST API without `limit` parameter. Or with `limit` parameter, the request is counted every 100 data points returned by the API.',\n 'faq_1': 'Q: How I can monitor number of requests left? A: Every authenticated API call providing information about the current state of the limits in the HTTP response headers, more info here: https://docs.coinapi.io/#request-limits',\n 'faq_2': \"Q: I'm on Professional plan. How I can have more requests? A: Please contact support at the https://www.coinapi.io/support for more information.\",\n 'faq_3': \"Q: I'm on free plan and I didn't executed 100 requests yet and got 429 error. A: Free plan contains additional limitations to prevent fraud and usage of the multiple free API keys to obey the limits.\"}"
     },
     "metadata": {},
     "execution_count": 32
    }
   ],
   "source": [
    "historical_data_33d_dct['ICE3X_SPOT_BTC_ZAR']"
   ]
  },
  {
   "cell_type": "markdown",
   "metadata": {},
   "source": [
    "It looks that only Luno and Binance are useful at all - so save these for the analysis"
   ]
  },
  {
   "cell_type": "code",
   "execution_count": 34,
   "metadata": {},
   "outputs": [],
   "source": [
    "data_to_save = {'LUNO_SPOT_BTC_ZAR': historical_data_33d_dct['LUNO_SPOT_BTC_ZAR'],\n",
    "    'BINANCE_SPOT_BTC_ZAR': historical_data_33d_dct['BINANCE_SPOT_BTC_ZAR']}"
   ]
  },
  {
   "cell_type": "code",
   "execution_count": 35,
   "metadata": {},
   "outputs": [],
   "source": [
    "import json"
   ]
  },
  {
   "cell_type": "code",
   "execution_count": 36,
   "metadata": {},
   "outputs": [],
   "source": [
    "with open('zar_data.json', 'w') as f:\n",
    "    json.dump(data_to_save, f)"
   ]
  },
  {
   "cell_type": "code",
   "execution_count": 43,
   "metadata": {},
   "outputs": [
    {
     "output_type": "execute_result",
     "data": {
      "text/plain": "[{'symbol_id': 'LUNO_SPOT_BTC_ZAR',\n  'time_exchange': '2020-07-17T23:54:08.5063594Z',\n  'time_coinapi': '2020-07-17T23:54:08.5063594Z',\n  'asks': [{'price': 164317.0, 'size': 0.8113}],\n  'bids': [{'price': 164020.0, 'size': 0.1585}]},\n {'symbol_id': 'LUNO_SPOT_BTC_ZAR',\n  'time_exchange': '2020-07-17T23:55:30.6872278Z',\n  'time_coinapi': '2020-07-17T23:55:30.6872278Z',\n  'asks': [{'price': 164318.0, 'size': 1e-06}],\n  'bids': [{'price': 164046.0, 'size': 0.02003}]},\n {'symbol_id': 'LUNO_SPOT_BTC_ZAR',\n  'time_exchange': '2020-07-17T23:56:52.8443586Z',\n  'time_coinapi': '2020-07-17T23:56:52.8443586Z',\n  'asks': [{'price': 164318.0, 'size': 1e-06}],\n  'bids': [{'price': 164074.0, 'size': 0.02003}]},\n {'symbol_id': 'LUNO_SPOT_BTC_ZAR',\n  'time_exchange': '2020-07-17T23:58:15.1198622Z',\n  'time_coinapi': '2020-07-17T23:58:15.1198622Z',\n  'asks': [{'price': 164318.0, 'size': 1e-06}],\n  'bids': [{'price': 164021.0, 'size': 0.105196}]},\n {'symbol_id': 'LUNO_SPOT_BTC_ZAR',\n  'time_exchange': '2020-07-17T23:59:37.5303022Z',\n  'time_coinapi': '2020-07-17T23:59:37.5303022Z',\n  'asks': [{'price': 164318.0, 'size': 1e-06}],\n  'bids': [{'price': 164021.0, 'size': 0.105196}]}]"
     },
     "metadata": {},
     "execution_count": 43
    }
   ],
   "source": [
    "historical_data_33d_dct['LUNO_SPOT_BTC_ZAR'][-5:]"
   ]
  },
  {
   "cell_type": "code",
   "execution_count": 44,
   "metadata": {},
   "outputs": [
    {
     "output_type": "execute_result",
     "data": {
      "text/plain": "[{'symbol_id': 'BINANCE_SPOT_BTC_ZAR',\n  'time_exchange': '2020-07-17T06:24:45.8710000Z',\n  'time_coinapi': '2020-07-17T06:24:45.9499679Z',\n  'asks': [{'price': 165021.0, 'size': 0.047583}],\n  'bids': [{'price': 164320.0, 'size': 0.0132}]},\n {'symbol_id': 'BINANCE_SPOT_BTC_ZAR',\n  'time_exchange': '2020-07-17T06:25:48.8070000Z',\n  'time_coinapi': '2020-07-17T06:25:48.8859379Z',\n  'asks': [{'price': 165021.0, 'size': 0.03624}],\n  'bids': [{'price': 164320.0, 'size': 0.0132}]},\n {'symbol_id': 'BINANCE_SPOT_BTC_ZAR',\n  'time_exchange': '2020-07-17T06:26:59.4480000Z',\n  'time_coinapi': '2020-07-17T06:26:59.5277317Z',\n  'asks': [{'price': 165732.0, 'size': 0.088497}],\n  'bids': [{'price': 164320.0, 'size': 0.0132}]},\n {'symbol_id': 'BINANCE_SPOT_BTC_ZAR',\n  'time_exchange': '2020-07-17T06:28:10.0900000Z',\n  'time_coinapi': '2020-07-17T06:28:10.1669694Z',\n  'asks': [{'price': 165730.0, 'size': 0.082497}],\n  'bids': [{'price': 164321.0, 'size': 0.005588}]},\n {'symbol_id': 'BINANCE_SPOT_BTC_ZAR',\n  'time_exchange': '2020-07-17T06:30:30.3730000Z',\n  'time_coinapi': '2020-07-17T06:30:30.4506666Z',\n  'asks': [{'price': 165730.0, 'size': 0.082497}],\n  'bids': [{'price': 164468.0, 'size': 0.0125}]}]"
     },
     "metadata": {},
     "execution_count": 44
    }
   ],
   "source": [
    "historical_data_33d_dct['BINANCE_SPOT_BTC_ZAR'][-5:]\n"
   ]
  },
  {
   "cell_type": "markdown",
   "metadata": {},
   "source": [
    "It looks like Binance was cut due to the limit just on last day morning - so to make it easier to analyse we delete the last day"
   ]
  },
  {
   "cell_type": "markdown",
   "metadata": {},
   "source": [
    "Now change the format so that it can be easily used with pandas"
   ]
  },
  {
   "cell_type": "code",
   "execution_count": 50,
   "metadata": {},
   "outputs": [],
   "source": [
    "useful_symbol_id_list = ['LUNO_SPOT_BTC_ZAR', 'BINANCE_SPOT_BTC_ZAR']\n",
    "formatted_data_to_save = {}\n",
    "\n",
    "for symbol_id in useful_symbol_id_list:\n",
    "    formatted_data_to_save[symbol_id] = []\n",
    "    for e in historical_data_33d_dct[symbol_id]:\n",
    "        elem_dct = {\n",
    "            'time': e['time_exchange'],\n",
    "            'asks_price': e['asks'][0]['price'],\n",
    "            'asks_size': e['asks'][0]['size'],\n",
    "            'bids_price': e['bids'][0]['price'],\n",
    "            'bids_size': e['bids'][0]['size']\n",
    "        }\n",
    "\n",
    "        # make sure we have consistent data in terms of time for both Luno and Binance\n",
    "        # exclude anything on 2020-07-17\n",
    "        # this is the only day where we did not get all data for Binance\n",
    "        if '2020-07-17' not in elem_dct['time']:\n",
    "            formatted_data_to_save[symbol_id].append(elem_dct)"
   ]
  },
  {
   "cell_type": "markdown",
   "metadata": {},
   "source": [
    "Save the data as json:\n",
    "{'LUNO_SPOT_BTC_ZAR': \\[{}, ..., {}\\], 'BINANCE_SPOT_BTC_ZAR': \\[{}, ..., {}\\]}"
   ]
  },
  {
   "cell_type": "code",
   "execution_count": 57,
   "metadata": {},
   "outputs": [],
   "source": [
    "with open('luno_binance_spot_btc_zar.json', 'w') as f:\n",
    "    json.dump(formatted_data_to_save, f)"
   ]
  },
  {
   "cell_type": "markdown",
   "metadata": {},
   "source": [
    "Now an example of how to use the data with pandas"
   ]
  },
  {
   "cell_type": "code",
   "execution_count": 58,
   "metadata": {},
   "outputs": [],
   "source": [
    "import pandas as pd"
   ]
  },
  {
   "cell_type": "code",
   "execution_count": 60,
   "metadata": {},
   "outputs": [],
   "source": [
    "with open('luno_binance_spot_btc_zar.json', 'r') as f:\n",
    "    luno_binance_data = json.load(f)\n",
    "\n",
    "luno_btc_zar_data = pd.DataFrame(luno_binance_data['LUNO_SPOT_BTC_ZAR'])\n",
    "binance_btc_zar_data = pd.DataFrame(luno_binance_data['BINANCE_SPOT_BTC_ZAR'])"
   ]
  },
  {
   "cell_type": "code",
   "execution_count": 61,
   "metadata": {},
   "outputs": [
    {
     "output_type": "execute_result",
     "data": {
      "text/plain": "                           time  asks_price  asks_size  bids_price  bids_size\n0  2020-06-15T00:02:19.5214332Z    170386.0   0.534161    170385.0   0.076187\n1  2020-06-15T00:02:34.7003021Z    170386.0   0.455860    170385.0   2.500000\n2  2020-06-15T00:03:45.2280492Z    170386.0   0.534161    170385.0   1.949240\n3  2020-06-15T00:04:36.1349999Z    170386.0   0.455860    170385.0   2.500000\n4  2020-06-15T00:05:10.9274555Z    170386.0   0.534161    170385.0   2.500000",
      "text/html": "<div>\n<style scoped>\n    .dataframe tbody tr th:only-of-type {\n        vertical-align: middle;\n    }\n\n    .dataframe tbody tr th {\n        vertical-align: top;\n    }\n\n    .dataframe thead th {\n        text-align: right;\n    }\n</style>\n<table border=\"1\" class=\"dataframe\">\n  <thead>\n    <tr style=\"text-align: right;\">\n      <th></th>\n      <th>time</th>\n      <th>asks_price</th>\n      <th>asks_size</th>\n      <th>bids_price</th>\n      <th>bids_size</th>\n    </tr>\n  </thead>\n  <tbody>\n    <tr>\n      <th>0</th>\n      <td>2020-06-15T00:02:19.5214332Z</td>\n      <td>170386.0</td>\n      <td>0.534161</td>\n      <td>170385.0</td>\n      <td>0.076187</td>\n    </tr>\n    <tr>\n      <th>1</th>\n      <td>2020-06-15T00:02:34.7003021Z</td>\n      <td>170386.0</td>\n      <td>0.455860</td>\n      <td>170385.0</td>\n      <td>2.500000</td>\n    </tr>\n    <tr>\n      <th>2</th>\n      <td>2020-06-15T00:03:45.2280492Z</td>\n      <td>170386.0</td>\n      <td>0.534161</td>\n      <td>170385.0</td>\n      <td>1.949240</td>\n    </tr>\n    <tr>\n      <th>3</th>\n      <td>2020-06-15T00:04:36.1349999Z</td>\n      <td>170386.0</td>\n      <td>0.455860</td>\n      <td>170385.0</td>\n      <td>2.500000</td>\n    </tr>\n    <tr>\n      <th>4</th>\n      <td>2020-06-15T00:05:10.9274555Z</td>\n      <td>170386.0</td>\n      <td>0.534161</td>\n      <td>170385.0</td>\n      <td>2.500000</td>\n    </tr>\n  </tbody>\n</table>\n</div>"
     },
     "metadata": {},
     "execution_count": 61
    }
   ],
   "source": [
    "luno_btc_zar_data.head()"
   ]
  },
  {
   "cell_type": "code",
   "execution_count": 62,
   "metadata": {},
   "outputs": [
    {
     "output_type": "execute_result",
     "data": {
      "text/plain": "                           time  asks_price  asks_size  bids_price  bids_size\n0  2020-06-15T00:00:13.4120000Z    171542.0   0.089691    170523.0   0.003790\n1  2020-06-15T00:00:21.0070000Z    171542.0   0.089691    170523.0   0.003790\n2  2020-06-15T00:00:27.5090000Z    171542.0   0.089691    170523.0   0.003790\n3  2020-06-15T00:00:28.5090000Z    171542.0   0.089691    170523.0   0.003790\n4  2020-06-15T00:00:29.8080000Z    171542.0   0.089691    170514.0   0.117292",
      "text/html": "<div>\n<style scoped>\n    .dataframe tbody tr th:only-of-type {\n        vertical-align: middle;\n    }\n\n    .dataframe tbody tr th {\n        vertical-align: top;\n    }\n\n    .dataframe thead th {\n        text-align: right;\n    }\n</style>\n<table border=\"1\" class=\"dataframe\">\n  <thead>\n    <tr style=\"text-align: right;\">\n      <th></th>\n      <th>time</th>\n      <th>asks_price</th>\n      <th>asks_size</th>\n      <th>bids_price</th>\n      <th>bids_size</th>\n    </tr>\n  </thead>\n  <tbody>\n    <tr>\n      <th>0</th>\n      <td>2020-06-15T00:00:13.4120000Z</td>\n      <td>171542.0</td>\n      <td>0.089691</td>\n      <td>170523.0</td>\n      <td>0.003790</td>\n    </tr>\n    <tr>\n      <th>1</th>\n      <td>2020-06-15T00:00:21.0070000Z</td>\n      <td>171542.0</td>\n      <td>0.089691</td>\n      <td>170523.0</td>\n      <td>0.003790</td>\n    </tr>\n    <tr>\n      <th>2</th>\n      <td>2020-06-15T00:00:27.5090000Z</td>\n      <td>171542.0</td>\n      <td>0.089691</td>\n      <td>170523.0</td>\n      <td>0.003790</td>\n    </tr>\n    <tr>\n      <th>3</th>\n      <td>2020-06-15T00:00:28.5090000Z</td>\n      <td>171542.0</td>\n      <td>0.089691</td>\n      <td>170523.0</td>\n      <td>0.003790</td>\n    </tr>\n    <tr>\n      <th>4</th>\n      <td>2020-06-15T00:00:29.8080000Z</td>\n      <td>171542.0</td>\n      <td>0.089691</td>\n      <td>170514.0</td>\n      <td>0.117292</td>\n    </tr>\n  </tbody>\n</table>\n</div>"
     },
     "metadata": {},
     "execution_count": 62
    }
   ],
   "source": [
    "binance_btc_zar_data.head()"
   ]
  },
  {
   "cell_type": "code",
   "execution_count": null,
   "metadata": {},
   "outputs": [],
   "source": []
  }
 ],
 "metadata": {
  "language_info": {
   "codemirror_mode": {
    "name": "ipython",
    "version": 3
   },
   "file_extension": ".py",
   "mimetype": "text/x-python",
   "name": "python",
   "nbconvert_exporter": "python",
   "pygments_lexer": "ipython3",
   "version": "3.6.10-final"
  },
  "orig_nbformat": 2,
  "kernelspec": {
   "name": "python3",
   "display_name": "Python 3"
  }
 },
 "nbformat": 4,
 "nbformat_minor": 2
}