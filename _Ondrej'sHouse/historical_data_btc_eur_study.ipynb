{
 "cells": [
  {
   "cell_type": "markdown",
   "metadata": {},
   "source": [
    "# Historical Data from CoinAPI Analysis\n",
    "Question: can we get historical data from more exchanges for BTC/EUR pair for better backtesting?"
   ]
  },
  {
   "cell_type": "code",
   "execution_count": 1,
   "metadata": {},
   "outputs": [],
   "source": [
    "import requests\n",
    "\n",
    "# here we get some historical data to perform analysis\n",
    "api_key = '93E4B0FE-5A23-456C-A8E2-FE04A9EC22D7'\n",
    "# email = 'tsofgygbbxnzwrbtoi@ttirv.org'import requests"
   ]
  },
  {
   "cell_type": "code",
   "execution_count": 2,
   "metadata": {},
   "outputs": [],
   "source": [
    "# available symbols for luno and bitstamp\n",
    "\n",
    "url = 'https://rest.coinapi.io/v1/symbols'\n",
    "headers = {'X-CoinAPI-Key' : api_key}\n",
    "response = requests.get(url, headers=headers)\n",
    "\n",
    "symbol_ids_dct_list = response.json()"
   ]
  },
  {
   "cell_type": "code",
   "execution_count": 3,
   "metadata": {},
   "outputs": [
    {
     "output_type": "execute_result",
     "data": {
      "text/plain": "119284"
     },
     "metadata": {},
     "execution_count": 3
    }
   ],
   "source": [
    "len(symbol_ids_dct_list)"
   ]
  },
  {
   "cell_type": "markdown",
   "metadata": {},
   "source": [
    "This is the list of all btc/xbt to eur pairs. We can see there are quite a few of them - the next step will be to filter these so that we only get ones which have recent data and also large volume."
   ]
  },
  {
   "cell_type": "code",
   "execution_count": 10,
   "metadata": {
    "tags": [
     "outputPrepend"
    ]
   },
   "outputs": [
    {
     "output_type": "stream",
     "name": "stdout",
     "text": "THEROCKTRADING_SPOT_BTC_EUR\nBITMARKET_SPOT_BTC_EUR\nITBIT_SPOT_BTC_EUR\nKRAKEN_SPOT_BTC_EUR\nCOINBASE_SPOT_BTC_EUR\nBITBAY_SPOT_BTC_EUR\nBTC-E_SPOT_BTC_EUR\nBITSTAMP_SPOT_BTC_EUR\nEXMO_SPOT_BTC_EUR\nCOINMATE_SPOT_BTC_EUR\nHITBTC_SPOT_BTC_EUR\nCOINFLOOR_SPOT_BTC_EUR\nYOBIT_SPOT_EURC_BTC\nCEXIO_SPOT_BTC_EUR\nPAYMIUM_SPOT_BTC_EUR\nLAKEBTC_SPOT_BTC_EUR\nXBTCE_SPOT_BTC_EUR\nDSX_SPOT_BTC_EURS\nDSX_SPOT_BTC_EUR\nYOBIT_SPOT_EUROPE_BTC\nBITFINEX_SPOT_BTC_EUR\nQUOINE_SPOT_BTC_EUR\nLIVECOIN_SPOT_BTC_EUR\nMTGOX_SPOT_BTC_EUR\nCOINCORNER_SPOT_BTC_EUR\nLIVECOIN_SPOT_EURN_BTC\nLIVECOIN_SPOT_BTC_EURN\nGRAVIEX_SPOT_BTC_EUR\nHITBTC_SPOT_BTC_EURS\nGATECOIN_SPOT_BTC_EUR\nCOINSBIT_SPOT_BTC_EUR\nCOINFIELD_SPOT_BTC_EUR\nEXTSTOCK_SPOT_BTC_EUR\nBITLISH_SPOT_BTC_EUR\nLYKKE_SPOT_BTC_EUR\nYOBIT_SPOT_EURS_BTC\nWHITEBIT_SPOT_BTC_EUR\n1BTCXE_SPOT_BTC_EUR\nANXPRO_SPOT_BTC_EUR\nCOINGI_SPOT_BTC_EUR_530033\nOPENLEDGER_SPOT_EURT_BTC\nIDCM_SPOT_EURS_BTC\nBITINKA_SPOT_BTC_EUR\nP2PB2B_SPOT_BTC_EUR\nCRYPTOMKT_SPOT_BTC_EUR\nABUCOINS_SPOT_BTC_EUR\nLIVECOIN_SPOT_BTC_EURS\nBTCX_SPOT_BTC_EUR\nCREX24_SPOT_BTC_EURT\nGETBTC_SPOT_BTC_EUR\nSTEX_SPOT_BTC_EUR\nCREX24_SPOT_BTC_EUR\nCOINGI_SPOT_BTC_EUR\nBTCALPHA_SPOT_BTC_EUR\nLYKKE_SPOT_BTC_EUR_5667E1\nWEXNZ_SPOT_BTC_EUR\nCOINEXCHANGE_SPOT_EUROP_BTC\nCRYPTOLOGY_SPOT_BTC_EUR\nCOINSBANK_SPOT_BTC_EUR\nLITEBIT_SPOT_BTC_EUR\nCOINDEAL_SPOT_BTC_EUR\nCRYPTONEX_SPOT_BTC_EUR\nTOKENS_SPOT_BTC_EURS\nETHFINEX_SPOT_BTC_EUR\nLATOKEN_SPOT_EURL_BTC\nBINANCEJE_SPOT_BTC_EUR\nCOSS_SPOT_BTC_EUR\nGULDENTRADER_SPOT_EUR_BTC\nBITLISH_SPOT_BTC_EUR_566BEB\nBISQ_SPOT_BTC_EUR\nCOINFALCON_SPOT_BTC_EUR\nBINANCE_SPOT_BTC_EUR\nZEBPAY_SPOT_BTC_EUR\nBLOCKCHAINEXCHANGE_SPOT_BTC_EUR\nWAVESPLATFORM_SPOT_BTC_EUR\nCOINRATE_SPOT_BTC_EUR\nBITSHARES_SPOT_BTC_EUR\nTRADEIO_SPOT_BTC_EUR\nKUNA_SPOT_BTC_EURS\nCPATEX_SPOT_BTC_EUR\nTHEROCKTRADING_SPOT_BTC_EURN\nBITTREX_SPOT_BTC_EUR\nCREX24_SPOT_BTC_EURPM\nTRADESATOSHI_SPOT_EURES_BTC\nEXRATES_SPOT_BTC_EUR\nBITVAVO_SPOT_BTC_EUR\nBTCEXCHANGE_SPOT_BTC_EUR\nBITPANDAPRO_SPOT_BTC_EUR\nGLOBITEX_SPOT_BTC_EUR\nGLOBITEX_SPOT_BTC_EURS\nINDOEX_SPOT_EUR_BTC\nINDOEX_SPOT_BTC_EUR\nCURRENCYCOM_SPOT_BTC_EUR\nBITSTORAGE_SPOT_BTC_EUR\nCOINHUB_SPOT_BTC_EUR\nSISTEMKOIN_SPOT_BTC_EURO\nBTSE_SPOT_BTC_EUR\nSTELLARPORT_SPOT_BTC_EURT\nBITSANE_SPOT_BTC_EUR\nBITIBU_SPOT_BTC_EURS\nCURRENCYCOM_SPOT_BTC_EUR_58362A\nTHEROCKTRADING_SPOT_EURN_BTC\nOKCOINUSD_SPOT_BTC_EUR\nOKCOINUSD_SPOT_BTC_EURS\nSTELLARPORT_SPOT_BTC_EUR\nSIMEX_SPOT_BTC_EUR_571198\nCREX24_SPOT_EURT_BTC\nDCOIN_SPOT_BTC_EUR\nSIMEX_SPOT_BTC_EUR\nCOINSQUARE_SPOT_BTC_EUR\nKRAKEN_SPOT_BTC_EUR_57CD16\nDEXTRADE_SPOT_BTC_EUR\nKRAKEN_SPOT_BTC_EUR_5641E2\nBLEUTRADE_SPOT_BTC_EUR\n114\n"
    }
   ],
   "source": [
    "relevant_symbol_ids_dct = []\n",
    "for symbol_ids_dct in symbol_ids_dct_list:\n",
    "    if 'spot' in symbol_ids_dct['symbol_id'].lower() and '_eur' in symbol_ids_dct['symbol_id'].lower() and ('_btc' in symbol_ids_dct['symbol_id'].lower() or '_xbt' in symbol_ids_dct['symbol_id'].lower()):\n",
    "        relevant_symbol_ids_dct.append(symbol_ids_dct)\n",
    "\n",
    "for e in relevant_symbol_ids_dct:\n",
    "    print(e['symbol_id'])\n",
    "\n",
    "print(len(relevant_symbol_ids_dct))"
   ]
  },
  {
   "cell_type": "code",
   "execution_count": 11,
   "metadata": {},
   "outputs": [
    {
     "output_type": "stream",
     "name": "stdout",
     "text": "2011-11-09--2021-06-16\n2011-04-06--2019-07-08\n2013-11-17--2020-07-26\n2014-01-08--2020-07-26\n2015-04-23--2021-06-16\n2015-03-17--2020-07-26\n2012-11-02--2018-03-09\n2016-04-28--2021-06-16\n2016-04-19--2020-07-26\n2017-03-14--2021-06-16\n2014-01-07--2017-11-07\n2017-09-20--2021-06-16\n2017-01-30--2020-07-08\n2018-01-24--2021-06-16\n2017-03-11--2020-07-26\n2017-03-18--2020-07-26\n2017-03-18--2020-07-26\n2018-06-28--2021-06-16\n2017-08-29--2020-07-26\n2017-06-30--2020-04-15\n2017-11-22--2020-07-26\n2017-11-29--2020-07-26\n2017-12-28--2020-07-26\n2011-08-27--2014-02-25\n2018-04-13--2020-07-26\n2018-04-18--2020-07-26\n2018-05-30--2020-07-24\n2018-07-09--2020-07-26\n2018-07-23--2020-07-26\n2017-03-14--2019-03-13\n2019-10-01--2021-06-16\n2019-10-01--2021-06-16\n2019-10-01--2021-06-16\n2018-01-22--2019-08-28\n2018-01-24--2019-08-28\n2018-12-05--2020-07-03\n2019-12-03--2021-06-16\n2018-01-23--2019-08-06\n2018-01-24--2019-08-06\n2019-01-20--2020-07-26\n2018-03-30--2019-09-26\n2019-02-04--2020-07-24\n2019-02-08--2020-07-26\n2019-04-08--2020-07-26\n2019-04-08--2020-07-26\n2017-12-28--2019-04-17\n2019-05-06--2020-07-24\n2016-07-30--2017-10-13\n2019-05-22--2020-07-24\n2018-01-24--2019-02-25\n2019-01-27--2020-02-13\n2019-04-08--2020-04-15\n2018-01-24--2019-01-28\n2020-06-15--2021-06-16\n2019-08-28--2020-07-26\n2017-12-24--2018-11-20\n2018-01-24--2018-12-11\n2019-10-01--2020-07-26\n2019-10-01--2020-07-26\n2019-10-01--2020-07-26\n2019-10-01--2020-07-26\n2019-10-01--2020-07-26\n2019-10-01--2020-07-26\n2019-10-01--2020-07-25\n2019-10-01--2020-07-24\n2019-10-09--2020-07-26\n2019-04-02--2020-01-07\n2019-10-01--2020-05-17\n2019-08-28--2020-04-02\n2020-01-01--2020-07-26\n2020-01-01--2020-07-25\n2020-01-03--2020-07-26\n2019-02-08--2019-08-25\n2020-01-16--2020-07-26\n2019-10-01--2020-03-31\n2019-10-01--2020-03-20\n2019-10-03--2020-03-21\n2019-05-22--2019-10-27\n2019-02-26--2019-07-31\n2020-03-10--2020-07-14\n2018-01-08--2018-05-07\n2020-03-31--2020-07-26\n2020-04-15--2020-07-26\n2019-01-16--2019-04-15\n2019-10-17--2020-01-13\n2020-05-05--2020-07-26\n2020-05-05--2020-07-26\n2020-05-05--2020-07-26\n2020-05-05--2020-07-26\n2020-05-05--2020-07-26\n2020-05-05--2020-07-26\n2020-05-05--2020-07-26\n2020-05-05--2020-07-26\n2020-05-05--2020-07-26\n2019-04-18--2019-07-05\n2019-04-08--2019-06-21\n2020-05-15--2020-07-26\n2019-12-17--2020-02-25\n2019-04-08--2019-06-17\n2019-04-08--2019-06-10\n2020-06-19--2020-07-26\n2017-11-29--2018-01-03\n2020-06-21--2020-07-21\n2020-06-21--2020-07-21\n2020-04-17--2020-04-21\n2020-01-27--2020-01-28\n2019-05-22--2019-05-22\n"
    },
    {
     "output_type": "error",
     "ename": "KeyError",
     "evalue": "'data_start'",
     "traceback": [
      "\u001b[0;31m---------------------------------------------------------------------------\u001b[0m",
      "\u001b[0;31mKeyError\u001b[0m                                  Traceback (most recent call last)",
      "\u001b[0;32m<ipython-input-11-69c6527ee017>\u001b[0m in \u001b[0;36m<module>\u001b[0;34m\u001b[0m\n\u001b[1;32m      1\u001b[0m \u001b[0;32mfor\u001b[0m \u001b[0me\u001b[0m \u001b[0;32min\u001b[0m \u001b[0mrelevant_symbol_ids_dct\u001b[0m\u001b[0;34m:\u001b[0m\u001b[0;34m\u001b[0m\u001b[0;34m\u001b[0m\u001b[0m\n\u001b[0;32m----> 2\u001b[0;31m     \u001b[0mprint\u001b[0m\u001b[0;34m(\u001b[0m\u001b[0me\u001b[0m\u001b[0;34m[\u001b[0m\u001b[0;34m'data_start'\u001b[0m\u001b[0;34m]\u001b[0m \u001b[0;34m+\u001b[0m \u001b[0;34m'--'\u001b[0m \u001b[0;34m+\u001b[0m \u001b[0me\u001b[0m\u001b[0;34m[\u001b[0m\u001b[0;34m'data_end'\u001b[0m\u001b[0;34m]\u001b[0m\u001b[0;34m)\u001b[0m\u001b[0;34m\u001b[0m\u001b[0;34m\u001b[0m\u001b[0m\n\u001b[0m",
      "\u001b[0;31mKeyError\u001b[0m: 'data_start'"
     ]
    }
   ],
   "source": [
    "for e in relevant_symbol_ids_dct:\n",
    "    print(e['data_start'] + '--' + e['data_end'])"
   ]
  },
  {
   "cell_type": "markdown",
   "metadata": {},
   "source": [
    "It looks like some of the data finished a longer time ago - filter these out"
   ]
  },
  {
   "cell_type": "code",
   "execution_count": 12,
   "metadata": {},
   "outputs": [
    {
     "output_type": "stream",
     "name": "stdout",
     "text": "{'symbol_id': 'DCOIN_SPOT_BTC_EUR', 'exchange_id': 'DCOIN', 'symbol_type': 'SPOT', 'asset_id_base': 'BTC', 'asset_id_quote': 'EUR'}\n{'symbol_id': 'SIMEX_SPOT_BTC_EUR', 'exchange_id': 'SIMEX', 'symbol_type': 'SPOT', 'asset_id_base': 'BTC', 'asset_id_quote': 'EUR'}\n{'symbol_id': 'COINSQUARE_SPOT_BTC_EUR', 'exchange_id': 'COINSQUARE', 'symbol_type': 'SPOT', 'asset_id_base': 'BTC', 'asset_id_quote': 'EUR'}\n{'symbol_id': 'KRAKEN_SPOT_BTC_EUR_57CD16', 'exchange_id': 'KRAKEN', 'symbol_type': 'SPOT', 'asset_id_base': 'BTC', 'asset_id_quote': 'EUR'}\n{'symbol_id': 'DEXTRADE_SPOT_BTC_EUR', 'exchange_id': 'DEXTRADE', 'symbol_type': 'SPOT', 'asset_id_base': 'BTC', 'asset_id_quote': 'EUR'}\n{'symbol_id': 'KRAKEN_SPOT_BTC_EUR_5641E2', 'exchange_id': 'KRAKEN', 'symbol_type': 'SPOT', 'asset_id_base': 'BTC', 'asset_id_quote': 'EUR'}\n{'symbol_id': 'BLEUTRADE_SPOT_BTC_EUR', 'exchange_id': 'BLEUTRADE', 'symbol_type': 'SPOT', 'asset_id_base': 'BTC', 'asset_id_quote': 'EUR'}\n2011-11-09--2021-06-16\n2013-11-17--2020-07-26\n2014-01-08--2020-07-26\n2015-04-23--2021-06-16\n2015-03-17--2020-07-26\n2016-04-28--2021-06-16\n2016-04-19--2020-07-26\n2017-03-14--2021-06-16\n2017-09-20--2021-06-16\n2017-01-30--2020-07-08\n2018-01-24--2021-06-16\n2017-03-11--2020-07-26\n2017-03-18--2020-07-26\n2017-03-18--2020-07-26\n2018-06-28--2021-06-16\n2017-08-29--2020-07-26\n2017-11-22--2020-07-26\n2017-11-29--2020-07-26\n2017-12-28--2020-07-26\n2018-04-13--2020-07-26\n2018-04-18--2020-07-26\n2018-05-30--2020-07-24\n2018-07-09--2020-07-26\n2018-07-23--2020-07-26\n2019-10-01--2021-06-16\n2019-10-01--2021-06-16\n2019-10-01--2021-06-16\n2018-12-05--2020-07-03\n2019-12-03--2021-06-16\n2019-01-20--2020-07-26\n2019-02-04--2020-07-24\n2019-02-08--2020-07-26\n2019-04-08--2020-07-26\n2019-04-08--2020-07-26\n2019-05-06--2020-07-24\n2019-05-22--2020-07-24\n2020-06-15--2021-06-16\n2019-08-28--2020-07-26\n2019-10-01--2020-07-26\n2019-10-01--2020-07-26\n2019-10-01--2020-07-26\n2019-10-01--2020-07-26\n2019-10-01--2020-07-26\n2019-10-01--2020-07-26\n2019-10-01--2020-07-25\n2019-10-01--2020-07-24\n2019-10-09--2020-07-26\n2020-01-01--2020-07-26\n2020-01-01--2020-07-25\n2020-01-03--2020-07-26\n2020-01-16--2020-07-26\n2020-03-10--2020-07-14\n2020-03-31--2020-07-26\n2020-04-15--2020-07-26\n2020-05-05--2020-07-26\n2020-05-05--2020-07-26\n2020-05-05--2020-07-26\n2020-05-05--2020-07-26\n2020-05-05--2020-07-26\n2020-05-05--2020-07-26\n2020-05-05--2020-07-26\n2020-05-05--2020-07-26\n2020-05-05--2020-07-26\n2020-05-15--2020-07-26\n2020-06-19--2020-07-26\n2020-06-21--2020-07-21\n2020-06-21--2020-07-21\n67\n"
    }
   ],
   "source": [
    "recent_data_list = []\n",
    "\n",
    "for e in relevant_symbol_ids_dct:\n",
    "    if 'data_end' in e:\n",
    "        if e['data_end'] > '2020-06-01':\n",
    "            recent_data_list.append(e)\n",
    "    else:\n",
    "        print(e)\n",
    "\n",
    "for e in recent_data_list:\n",
    "    print(e['data_start'] + '--' + e['data_end'])\n",
    "\n",
    "print(len(recent_data_list))"
   ]
  },
  {
   "cell_type": "markdown",
   "metadata": {},
   "source": [
    "Now look at volume_1 day as well as 1 month to see which of them are big. Some of them do not have all details, but we can assume these are the smaller and less interesting ones"
   ]
  },
  {
   "cell_type": "code",
   "execution_count": 13,
   "metadata": {},
   "outputs": [],
   "source": [
    "exchanges_sorted_volume_1d = sorted(filter(lambda x: 'volume_1day' in x, recent_data_list), key=lambda x: x['volume_1day'], reverse=True)\n",
    "exchanges_sorted_volume_1m = sorted(filter(lambda x: 'volume_1mth' in x, recent_data_list), key=lambda x: x['volume_1mth'], reverse=True)\n",
    "largest_exchanges = sorted(filter(lambda x: 'volume_1mth' in x and 'volume_1day' in x, recent_data_list), key=lambda x: x['volume_1mth'], reverse=True)"
   ]
  },
  {
   "cell_type": "code",
   "execution_count": 14,
   "metadata": {},
   "outputs": [
    {
     "output_type": "stream",
     "name": "stdout",
     "text": "There are 39 exchanges with suitable data.\nLargest exchanges and their montly volumes:\nGLOBITEX: 55707709.29\nCOINSBANK: 140822.0634\nKRAKEN: 115577.21900605\nEXTSTOCK: 90925.25154627\nBITSTAMP: 43960.45515825\nCOINSBIT: 37707.0344988\nCOINBASE: 33152.39935001\nINDOEX: 28058.41725728\nINDOEX: 27756.2370461\nBITFINEX: 10219.82474554\nWHITEBIT: 8847.13175889\nLIVECOIN: 7613.38993414\nCOINFIELD: 4918.45995601\nBITVAVO: 4766.95340038\nCRYPTOLOGY: 4212.21421413\nBINANCE: 3531.498722\nLAKEBTC: 3037.496197\nBITBAY: 1924.79017306\nTOKENS: 1294.93603553\nQUOINE: 968.4637008\nCEXIO: 895.74375464\nBITTREX: 760.66110883\nTHEROCKTRADING: 703.3579\nEXMO: 536.82976827\nBINANCEJE: 341.346501\nLIVECOIN: 320.10575282\nCOINFLOOR: 314.1114\nBITSTORAGE: 304.33385102\nPAYMIUM: 157.7092244\nCOINMATE: 143.94286246\nBTCEXCHANGE: 130.38083827\nBTCALPHA: 108.19973279\nCURRENCYCOM: 77.522\nLYKKE: 36.67040319\nDSX: 32.98852564\nCURRENCYCOM: 20.959\nHITBTC: 13.74141\nCREX24: 0.40413899\nCRYPTOMKT: 0.362763948\n"
    }
   ],
   "source": [
    "print('There are ' + str(len(largest_exchanges)) + ' exchanges with suitable data.')\n",
    "print('Largest exchanges and their montly volumes:')\n",
    "\n",
    "for exchange in largest_exchanges:\n",
    "    print(exchange['exchange_id'] + ': ' + str(exchange['volume_1mth']))"
   ]
  },
  {
   "cell_type": "code",
   "execution_count": 15,
   "metadata": {},
   "outputs": [
    {
     "output_type": "execute_result",
     "data": {
      "text/plain": "[{'symbol_id': 'GLOBITEX_SPOT_BTC_EUR',\n  'exchange_id': 'GLOBITEX',\n  'symbol_type': 'SPOT',\n  'asset_id_base': 'BTC',\n  'asset_id_quote': 'EUR',\n  'data_start': '2020-05-05',\n  'data_end': '2020-07-26',\n  'data_quote_start': '2020-05-05T13:18:55.0449358Z',\n  'data_quote_end': '2020-07-26T15:02:36.6310519Z',\n  'data_orderbook_start': '2020-05-05T13:18:55.0449358Z',\n  'data_orderbook_end': '2020-05-10T18:29:14.5838452Z',\n  'data_trade_start': '2020-05-05T16:21:17.5400000Z',\n  'data_trade_end': '2020-07-26T13:49:19.8380000Z',\n  'volume_1day': 2037538.59,\n  'volume_1day_usd': 20228706101.5,\n  'volume_1mth': 55707709.29,\n  'volume_1mth_usd': 553066766119.74,\n  'price': 0.0842835},\n {'symbol_id': 'COINSBANK_SPOT_BTC_EUR',\n  'exchange_id': 'COINSBANK',\n  'symbol_type': 'SPOT',\n  'asset_id_base': 'BTC',\n  'asset_id_quote': 'EUR',\n  'data_start': '2019-10-01',\n  'data_end': '2020-07-26',\n  'data_quote_start': '2019-10-01T17:22:53.8230039Z',\n  'data_quote_end': '2020-07-26T15:09:36.4177564Z',\n  'data_orderbook_start': '2019-10-01T17:22:53.8230039Z',\n  'data_orderbook_end': '2020-05-10T21:40:50.4131046Z',\n  'data_trade_start': '2019-10-01T17:33:30.0000000Z',\n  'data_trade_end': '2020-07-26T14:58:28.0000000Z',\n  'volume_1hrs': 99.3309,\n  'volume_1hrs_usd': 986158.3,\n  'volume_1day': 4960.164,\n  'volume_1day_usd': 49244564.13,\n  'volume_1mth': 140822.0634,\n  'volume_1mth_usd': 1398083033.67,\n  'price': 8584.855},\n {'symbol_id': 'KRAKEN_SPOT_BTC_EUR',\n  'exchange_id': 'KRAKEN',\n  'symbol_type': 'SPOT',\n  'asset_id_base': 'BTC',\n  'asset_id_quote': 'EUR',\n  'data_start': '2014-01-08',\n  'data_end': '2020-07-26',\n  'data_quote_start': '2014-07-31T13:05:46.0000000Z',\n  'data_quote_end': '2020-07-26T14:58:10.4254267Z',\n  'data_orderbook_start': '2014-07-31T13:05:46.0000000Z',\n  'data_orderbook_end': '2020-05-10T21:40:11.2124865Z',\n  'data_trade_start': '2014-01-08T09:26:29.0000000Z',\n  'data_trade_end': '2020-07-26T15:06:48.8860000Z',\n  'volume_1hrs': 172.42876678,\n  'volume_1hrs_usd': 1711874.74,\n  'volume_1day': 5413.46511462,\n  'volume_1day_usd': 53744942.71,\n  'volume_1mth': 115577.21900605,\n  'volume_1mth_usd': 1147451933.81,\n  'price': 8507.85}]"
     },
     "metadata": {},
     "execution_count": 15
    }
   ],
   "source": [
    "largest_exchanges[:3]"
   ]
  },
  {
   "cell_type": "code",
   "execution_count": null,
   "metadata": {},
   "outputs": [],
   "source": []
  }
 ],
 "metadata": {
  "language_info": {
   "codemirror_mode": {
    "name": "ipython",
    "version": 3
   },
   "file_extension": ".py",
   "mimetype": "text/x-python",
   "name": "python",
   "nbconvert_exporter": "python",
   "pygments_lexer": "ipython3",
   "version": "3.7.6-final"
  },
  "orig_nbformat": 2,
  "kernelspec": {
   "name": "python37664bitbasecondaf429a09801ec4154b56b25c42a610185",
   "display_name": "Python 3.7.6 64-bit ('base': conda)"
  }
 },
 "nbformat": 4,
 "nbformat_minor": 2
}