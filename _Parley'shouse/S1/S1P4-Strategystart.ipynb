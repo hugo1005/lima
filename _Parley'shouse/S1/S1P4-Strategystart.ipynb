{
 "cells": [
  {
   "cell_type": "code",
   "execution_count": 1,
   "metadata": {},
   "outputs": [],
   "source": [
    "from datetime import datetime\n",
    "import matplotlib.pyplot as plt\n",
    "import os\n",
    "import pandas as pd\n",
    "import sqlite3\n",
    "from pandas import DataFrame as df\n",
    "import numpy as np\n",
    "from pandas import read_csv as rc\n",
    "df_general=rc('merged.csv')"
   ]
  },
  {
   "cell_type": "code",
   "execution_count": 20,
   "metadata": {},
   "outputs": [],
   "source": [
    "signalmatrix=df(df_general['lBid']-df_general['kBid'])\n",
    "signalmatrix=signalmatrix.join(df(df_general['lAsk']-df_general['kAsk']),rsuffix='r')\n",
    "(signalmatrix).columns=('BidDiff','AskDiff')"
   ]
  },
  {
   "cell_type": "code",
   "execution_count": 140,
   "metadata": {},
   "outputs": [],
   "source": [
    "buyentry=[];sellentry=[]"
   ]
  },
  {
   "cell_type": "code",
   "execution_count": 141,
   "metadata": {},
   "outputs": [],
   "source": [
    "buyentry.append(df_general[signalmatrix['AskDiff']<-20].head(1).index.values)\n",
    "sellentry.append(df_general[signalmatrix['BidDiff']>10][\n",
    "    df_general[signalmatrix['BidDiff']>10].index.values>buyentry[-1]].head(1).index.values)"
   ]
  },
  {
   "cell_type": "code",
   "execution_count": 142,
   "metadata": {},
   "outputs": [],
   "source": [
    "buyentry.append(df_general[signalmatrix['AskDiff']<-20][\n",
    "    df_general[signalmatrix['AskDiff']<-20].index.values>sellentry[-1]].head(1).index.values)\n",
    "sellentry.append(df_general[signalmatrix['BidDiff']>10][\n",
    "    df_general[signalmatrix['BidDiff']>10].index.values>buyentry[-1]].head(1).index.values)"
   ]
  },
  {
   "cell_type": "code",
   "execution_count": 143,
   "metadata": {},
   "outputs": [],
   "source": [
    "buyentry.append(df_general[signalmatrix['AskDiff']<-20][\n",
    "    df_general[signalmatrix['AskDiff']<-20].index.values>sellentry[-1]].head(1).index.values)"
   ]
  },
  {
   "cell_type": "code",
   "execution_count": 144,
   "metadata": {},
   "outputs": [
    {
     "data": {
      "text/plain": [
       "array([], dtype=int64)"
      ]
     },
     "execution_count": 144,
     "metadata": {},
     "output_type": "execute_result"
    }
   ],
   "source": [
    "len(buyentry[-1])==0 #This means we need to stop\n",
    "buyentry.pop(-1)"
   ]
  },
  {
   "cell_type": "code",
   "execution_count": 206,
   "metadata": {},
   "outputs": [],
   "source": [
    "Entries=df(buyentry).join(df(sellentry),rsuffix='r')\n",
    "Entries.columns=['B','S']"
   ]
  },
  {
   "cell_type": "code",
   "execution_count": 173,
   "metadata": {},
   "outputs": [],
   "source": [
    "RoE=[None]*Entries.shape[0]"
   ]
  },
  {
   "cell_type": "code",
   "execution_count": 177,
   "metadata": {},
   "outputs": [],
   "source": [
    "for i in range(Entries.shape[0]):\n",
    "    buyprice=df_general.loc[Entries['B'][i]][4]\n",
    "    sellprice=df_general.loc[Entries['S'][i]][3]\n",
    "    RoE[i]=sellprice/buyprice"
   ]
  },
  {
   "cell_type": "code",
   "execution_count": 216,
   "metadata": {},
   "outputs": [],
   "source": [
    "Entries_in_time=df(df_general.loc[Entries['B']]['Time']).reset_index(\n",
    "    drop=True).join(\n",
    "df(df_general.loc[Entries['S']]['Time']).reset_index(drop=True),rsuffix='S')\n",
    "#Entries_in_time['B']=df_general.loc[Entries_in_time['B']]['Time']\n",
    "#Entries_in_time['S']=df_general.loc[Entries_in_time['S']]['Time']\n",
    "Entries_in_time.columns=Entries.columns"
   ]
  },
  {
   "cell_type": "code",
   "execution_count": 217,
   "metadata": {},
   "outputs": [
    {
     "data": {
      "text/html": [
       "<div>\n",
       "<style scoped>\n",
       "    .dataframe tbody tr th:only-of-type {\n",
       "        vertical-align: middle;\n",
       "    }\n",
       "\n",
       "    .dataframe tbody tr th {\n",
       "        vertical-align: top;\n",
       "    }\n",
       "\n",
       "    .dataframe thead th {\n",
       "        text-align: right;\n",
       "    }\n",
       "</style>\n",
       "<table border=\"1\" class=\"dataframe\">\n",
       "  <thead>\n",
       "    <tr style=\"text-align: right;\">\n",
       "      <th></th>\n",
       "      <th>B</th>\n",
       "      <th>S</th>\n",
       "    </tr>\n",
       "  </thead>\n",
       "  <tbody>\n",
       "    <tr>\n",
       "      <th>0</th>\n",
       "      <td>07-10 15:29</td>\n",
       "      <td>07-10 20:50</td>\n",
       "    </tr>\n",
       "    <tr>\n",
       "      <th>1</th>\n",
       "      <td>07-12 13:17</td>\n",
       "      <td>07-12 13:40</td>\n",
       "    </tr>\n",
       "  </tbody>\n",
       "</table>\n",
       "</div>"
      ],
      "text/plain": [
       "             B            S\n",
       "0  07-10 15:29  07-10 20:50\n",
       "1  07-12 13:17  07-12 13:40"
      ]
     },
     "execution_count": 217,
     "metadata": {},
     "output_type": "execute_result"
    }
   ],
   "source": [
    "Entries_in_time"
   ]
  },
  {
   "cell_type": "code",
   "execution_count": 218,
   "metadata": {},
   "outputs": [
    {
     "data": {
      "text/plain": [
       "[1.0048617974304204, 0.9968792682926829]"
      ]
     },
     "execution_count": 218,
     "metadata": {},
     "output_type": "execute_result"
    }
   ],
   "source": [
    "RoE"
   ]
  },
  {
   "cell_type": "code",
   "execution_count": null,
   "metadata": {},
   "outputs": [],
   "source": []
  }
 ],
 "metadata": {
  "kernelspec": {
   "display_name": "conda_python3",
   "language": "python",
   "name": "conda_python3"
  },
  "language_info": {
   "codemirror_mode": {
    "name": "ipython",
    "version": 3
   },
   "file_extension": ".py",
   "mimetype": "text/x-python",
   "name": "python",
   "nbconvert_exporter": "python",
   "pygments_lexer": "ipython3",
   "version": "3.6.10"
  }
 },
 "nbformat": 4,
 "nbformat_minor": 4
}
