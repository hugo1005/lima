{
 "cells": [
  {
   "cell_type": "code",
   "execution_count": 1,
   "metadata": {},
   "outputs": [],
   "source": [
    "from Tools_SS2_General import *"
   ]
  },
  {
   "cell_type": "code",
   "execution_count": 2,
   "metadata": {},
   "outputs": [],
   "source": [
    "df_general=rc('Signaldata.csv',index_col='Unnamed: 0')"
   ]
  },
  {
   "cell_type": "code",
   "execution_count": 3,
   "metadata": {},
   "outputs": [
    {
     "data": {
      "text/plain": [
       "<matplotlib.axes._subplots.AxesSubplot at 0x10bdba160>"
      ]
     },
     "execution_count": 3,
     "metadata": {},
     "output_type": "execute_result"
    },
    {
     "data": {
      "image/png": "[encoded data removed]",
      "text/plain": [
       "<Figure size 432x288 with 1 Axes>"
      ]
     },
     "metadata": {
      "needs_background": "light"
     },
     "output_type": "display_data"
    }
   ],
   "source": [
    "(df_general.mid_kraken-df_general.BBL_10_kraken).plot()"
   ]
  },
  {
   "cell_type": "code",
   "execution_count": 60,
   "metadata": {},
   "outputs": [],
   "source": [
    "    signalmatrix =df(df_general.mid_kraken-(df_general.MA_10_kraken+2*df_general.STD_10_kraken)).join(\n",
    "        df(df_general.mid_kraken-(df_general.MA_10_kraken-2*df_general.STD_10_kraken)),rsuffix='r')"
   ]
  },
  {
   "cell_type": "code",
   "execution_count": 61,
   "metadata": {},
   "outputs": [
    {
     "data": {
      "text/html": [
       "<div>\n",
       "<style scoped>\n",
       "    .dataframe tbody tr th:only-of-type {\n",
       "        vertical-align: middle;\n",
       "    }\n",
       "\n",
       "    .dataframe tbody tr th {\n",
       "        vertical-align: top;\n",
       "    }\n",
       "\n",
       "    .dataframe thead th {\n",
       "        text-align: right;\n",
       "    }\n",
       "</style>\n",
       "<table border=\"1\" class=\"dataframe\">\n",
       "  <thead>\n",
       "    <tr style=\"text-align: right;\">\n",
       "      <th></th>\n",
       "      <th>0</th>\n",
       "      <th>0r</th>\n",
       "    </tr>\n",
       "  </thead>\n",
       "  <tbody>\n",
       "    <tr>\n",
       "      <th>0</th>\n",
       "      <td>-0.779831</td>\n",
       "      <td>2.588165</td>\n",
       "    </tr>\n",
       "    <tr>\n",
       "      <th>1</th>\n",
       "      <td>-0.783155</td>\n",
       "      <td>2.586171</td>\n",
       "    </tr>\n",
       "    <tr>\n",
       "      <th>2</th>\n",
       "      <td>-0.786461</td>\n",
       "      <td>2.584161</td>\n",
       "    </tr>\n",
       "    <tr>\n",
       "      <th>3</th>\n",
       "      <td>-0.789750</td>\n",
       "      <td>2.582134</td>\n",
       "    </tr>\n",
       "    <tr>\n",
       "      <th>4</th>\n",
       "      <td>-0.793023</td>\n",
       "      <td>2.580089</td>\n",
       "    </tr>\n",
       "    <tr>\n",
       "      <th>...</th>\n",
       "      <td>...</td>\n",
       "      <td>...</td>\n",
       "    </tr>\n",
       "    <tr>\n",
       "      <th>300295</th>\n",
       "      <td>-1.500623</td>\n",
       "      <td>2.178573</td>\n",
       "    </tr>\n",
       "    <tr>\n",
       "      <th>300296</th>\n",
       "      <td>-1.501730</td>\n",
       "      <td>2.177563</td>\n",
       "    </tr>\n",
       "    <tr>\n",
       "      <th>300297</th>\n",
       "      <td>-1.502834</td>\n",
       "      <td>2.176550</td>\n",
       "    </tr>\n",
       "    <tr>\n",
       "      <th>300298</th>\n",
       "      <td>-1.513907</td>\n",
       "      <td>2.165540</td>\n",
       "    </tr>\n",
       "    <tr>\n",
       "      <th>300299</th>\n",
       "      <td>-1.514977</td>\n",
       "      <td>2.164527</td>\n",
       "    </tr>\n",
       "  </tbody>\n",
       "</table>\n",
       "<p>300300 rows × 2 columns</p>\n",
       "</div>"
      ],
      "text/plain": [
       "               0        0r\n",
       "0      -0.779831  2.588165\n",
       "1      -0.783155  2.586171\n",
       "2      -0.786461  2.584161\n",
       "3      -0.789750  2.582134\n",
       "4      -0.793023  2.580089\n",
       "...          ...       ...\n",
       "300295 -1.500623  2.178573\n",
       "300296 -1.501730  2.177563\n",
       "300297 -1.502834  2.176550\n",
       "300298 -1.513907  2.165540\n",
       "300299 -1.514977  2.164527\n",
       "\n",
       "[300300 rows x 2 columns]"
      ]
     },
     "execution_count": 61,
     "metadata": {},
     "output_type": "execute_result"
    }
   ],
   "source": [
    "signalmatrix"
   ]
  },
  {
   "cell_type": "code",
   "execution_count": null,
   "metadata": {},
   "outputs": [],
   "source": [
    "df(df_general.mid_kraken-(df_general.MA_10_kraken+2*df_general.STD_10_kraken))"
   ]
  },
  {
   "cell_type": "code",
   "execution_count": 21,
   "metadata": {},
   "outputs": [],
   "source": [
    "def buy_and_sell_entries_SS2(Entryhandle,Exithandle,df_general=None):\n",
    "    # df_general is Best Bid Best Ask for both exchanges\n",
    "    signalmatrix =df(df_general.mid_kraken-(df_general.MA_60_kraken+2*df_general.STD_60_kraken)).join(\n",
    "        df(df_general.mid_kraken-(df_general.MA_10_kraken)),rsuffix='r')\n",
    "    signalmatrix.columns=['En','Ex']\n",
    "    # Our entry and exits\n",
    "    buyentry=[];sellentry=[]\n",
    "\n",
    "    # Enter the first buy (Index is zero indexed)\n",
    "    open_signal = signalmatrix['En']> Entryhandle\n",
    "    first_entry_idx = df_general[open_signal].head(1).index.values\n",
    "    buyentry.append(first_entry_idx)\n",
    "\n",
    "    # Enter the first close\n",
    "    close_signal = signalmatrix['Ex']<Exithandle\n",
    "    first_close_signal = df_general[close_signal] \n",
    "    first_close_idx = first_close_signal[first_close_signal.index.values > first_entry_idx].head(1).index.values\n",
    "    sellentry.append(first_close_idx)\n",
    "\n",
    "    more_oppurtunities = lambda: len(sellentry[-1])!=0\n",
    "    trade_initated = lambda: len(buyentry[-1])!=0\n",
    "    \n",
    "    while more_oppurtunities():\n",
    "        next_open_signal = df_general[open_signal]\n",
    "        next_open_idx = next_open_signal[next_open_signal.index.values > sellentry[-1]].head(1).index.values\n",
    "        buyentry.append(next_open_idx)\n",
    "        \n",
    "        if trade_initated():\n",
    "            next_close_signal = df_general[close_signal] \n",
    "            next_close_idx = next_close_signal[next_close_signal.index.values > next_open_idx].head(1).index.values\n",
    "            sellentry.append(next_close_idx)\n",
    "        else:\n",
    "            break\n",
    "\n",
    "    # Cleanup the mess \n",
    "    for i in [sellentry, buyentry]:\n",
    "        if len(i[-1])==0:\n",
    "            i.pop(-1)\n",
    "\n",
    "    return [buyentry, sellentry]"
   ]
  },
  {
   "cell_type": "code",
   "execution_count": 51,
   "metadata": {},
   "outputs": [],
   "source": [
    "bs=buy_and_sell_entries_SS2(15,0,df_general=df_general)"
   ]
  },
  {
   "cell_type": "code",
   "execution_count": 10,
   "metadata": {},
   "outputs": [],
   "source": [
    "def trading_plugin_SS2(buysellentries,feesb=0.0025,feess=0.0025,df_price=None):\n",
    "    \n",
    "\t[buyentry,sellentry]=buysellentries\n",
    "\tEntries=df(buyentry).join(df(sellentry),rsuffix='r')\n",
    "\tEntries.columns=['B','S']\n",
    "\n",
    "\tif len(buyentry)>len(sellentry):\n",
    "\t\tEntries=Entries.iloc[:(Entries.shape[0]-1),]\n",
    "\n",
    "\tRoT=[None]*(Entries.shape[0])\n",
    "\n",
    "\tfor i in range(Entries.shape[0]):\n",
    "\t\tbuyprice=df_price.loc[Entries['B'][i]][2]*(1+feesb)\n",
    "\t\tsellprice=df_price.loc[Entries['S'][i]][1]*(1-feess)\n",
    "\t\tRoT[i]=sellprice/buyprice\n",
    "\n",
    "\tEntries_in_time=df(df_price.loc[Entries['B']]['timestamp']).reset_index(\n",
    "    drop=True).join(df(df_price.loc[Entries['S']]['timestamp']).reset_index(drop=True),rsuffix='S')\n",
    "\t\n",
    "\tEntries_in_time.columns=Entries.columns\n",
    "\n",
    "\treturn [Entries_in_time, RoT]\n"
   ]
  },
  {
   "cell_type": "code",
   "execution_count": 11,
   "metadata": {},
   "outputs": [],
   "source": [
    "tp=rc('Tradingprices.csv',index_col='Unnamed: 0')"
   ]
  },
  {
   "cell_type": "code",
   "execution_count": 52,
   "metadata": {},
   "outputs": [
    {
     "data": {
      "text/plain": [
       "[                     B                    S\n",
       " 0  2020-07-12 07:58:25  2020-07-12 08:23:39\n",
       " 1  2020-07-12 13:26:21  2020-07-12 13:30:34\n",
       " 2  2020-07-12 22:14:04  2020-07-13 06:23:37\n",
       " 3  2020-07-18 09:03:41  2020-07-18 09:23:19\n",
       " 4  2020-07-19 16:43:52  2020-07-19 16:54:02,\n",
       " [1.0020569697561927,\n",
       "  0.9865374681992191,\n",
       "  1.001990043673457,\n",
       "  0.9998532042525982,\n",
       "  0.9972837549133178]]"
      ]
     },
     "execution_count": 52,
     "metadata": {},
     "output_type": "execute_result"
    }
   ],
   "source": [
    "trading_plugin_SS2(bs,feesb=0,feess=0,df_price=tp)"
   ]
  },
  {
   "cell_type": "code",
   "execution_count": null,
   "metadata": {},
   "outputs": [],
   "source": []
  }
 ],
 "metadata": {
  "kernelspec": {
   "display_name": "Python 3",
   "language": "python",
   "name": "python3"
  },
  "language_info": {
   "codemirror_mode": {
    "name": "ipython",
    "version": 3
   },
   "file_extension": ".py",
   "mimetype": "text/x-python",
   "name": "python",
   "nbconvert_exporter": "python",
   "pygments_lexer": "ipython3",
   "version": "3.7.3"
  }
 },
 "nbformat": 4,
 "nbformat_minor": 2
}
