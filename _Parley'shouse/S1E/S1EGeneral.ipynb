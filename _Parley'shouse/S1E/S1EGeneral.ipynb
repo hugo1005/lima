{
  "cells": [
    {
      "cell_type": "code",
      "source": [
        "from Tools_S1E_General import *"
      ],
      "outputs": [],
      "execution_count": 1,
      "metadata": {
        "execution": {
          "iopub.status.busy": "2020-08-02T12:14:04.869Z",
          "iopub.execute_input": "2020-08-02T12:14:04.879Z",
          "iopub.status.idle": "2020-08-02T12:14:06.691Z",
          "shell.execute_reply": "2020-08-02T12:14:06.718Z"
        }
      }
    },
    {
      "cell_type": "code",
      "source": [
        "df_general=rc('Copy of merged_large_2_min.csv')\n",
        "df_general = df_general.ffill()"
      ],
      "outputs": [],
      "execution_count": 3,
      "metadata": {
        "execution": {
          "iopub.status.busy": "2020-08-02T12:14:25.869Z",
          "iopub.execute_input": "2020-08-02T12:14:25.874Z",
          "iopub.status.idle": "2020-08-02T12:14:25.887Z",
          "shell.execute_reply": "2020-08-02T12:14:25.896Z"
        }
      }
    },
    {
      "cell_type": "code",
      "source": [
        "e=buy_and_sell_entries_S1E(5,5,df_general)"
      ],
      "outputs": [],
      "execution_count": 4,
      "metadata": {
        "execution": {
          "iopub.status.busy": "2020-08-02T12:14:30.158Z",
          "iopub.execute_input": "2020-08-02T12:14:30.166Z",
          "iopub.status.idle": "2020-08-02T12:14:30.196Z",
          "shell.execute_reply": "2020-08-02T12:14:30.202Z"
        }
      }
    },
    {
      "cell_type": "code",
      "source": [
        "D=trading_plugin_S1E(e,df_general)"
      ],
      "outputs": [],
      "execution_count": 5,
      "metadata": {
        "execution": {
          "iopub.status.busy": "2020-08-02T12:14:31.493Z",
          "iopub.execute_input": "2020-08-02T12:14:31.497Z",
          "iopub.status.idle": "2020-08-02T12:14:31.506Z",
          "shell.execute_reply": "2020-08-02T12:14:31.514Z"
        }
      }
    },
    {
      "cell_type": "code",
      "source": [
        "(D['RoT_AC1']+D['RoT_AC2']-2).cumsum().plot()"
      ],
      "outputs": [
        {
          "output_type": "execute_result",
          "execution_count": 7,
          "data": {
            "text/plain": "<matplotlib.axes._subplots.AxesSubplot at 0x1a1fa3a128>"
          },
          "metadata": {}
        },
        {
          "output_type": "display_data",
          "data": {
            "text/plain": "<Figure size 432x288 with 1 Axes>",
            "image/png": "[encoded data removed]"
          },
          "metadata": {
            "needs_background": "light"
          }
        }
      ],
      "execution_count": 7,
      "metadata": {
        "execution": {
          "iopub.status.busy": "2020-08-02T12:14:43.409Z",
          "iopub.execute_input": "2020-08-02T12:14:43.413Z",
          "iopub.status.idle": "2020-08-02T12:14:43.521Z",
          "shell.execute_reply": "2020-08-02T12:14:43.527Z"
        }
      }
    },
    {
      "cell_type": "code",
      "source": [],
      "outputs": [],
      "execution_count": null,
      "metadata": {}
    }
  ],
  "metadata": {
    "kernelspec": {
      "display_name": "Python 3",
      "language": "python",
      "name": "python3"
    },
    "language_info": {
      "name": "python",
      "version": "3.7.3",
      "mimetype": "text/x-python",
      "codemirror_mode": {
        "name": "ipython",
        "version": 3
      },
      "pygments_lexer": "ipython3",
      "nbconvert_exporter": "python",
      "file_extension": ".py"
    },
    "nteract": {
      "version": "0.24.0"
    }
  },
  "nbformat": 4,
  "nbformat_minor": 2
}